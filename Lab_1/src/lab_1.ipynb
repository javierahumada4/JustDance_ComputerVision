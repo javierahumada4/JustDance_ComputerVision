{
 "cells": [
  {
   "cell_type": "markdown",
   "metadata": {},
   "source": [
    "# **Sesión 1:** Calibración de Cámara 📷⚙️"
   ]
  },
  {
   "cell_type": "markdown",
   "metadata": {},
   "source": [
    "## **Instalaciones**"
   ]
  },
  {
   "cell_type": "code",
   "execution_count": 1,
   "metadata": {},
   "outputs": [
    {
     "name": "stdout",
     "output_type": "stream",
     "text": [
      "Requirement already satisfied: imageio in c:\\users\\javie\\appdata\\local\\programs\\python\\python312\\lib\\site-packages (2.35.1)\n",
      "Requirement already satisfied: opencv-python==4.9.0.80 in c:\\users\\javie\\appdata\\local\\programs\\python\\python312\\lib\\site-packages (4.9.0.80)\n",
      "Requirement already satisfied: numpy>=1.21.2 in c:\\users\\javie\\appdata\\local\\programs\\python\\python312\\lib\\site-packages (from opencv-python==4.9.0.80) (1.26.1)\n",
      "Requirement already satisfied: pillow>=8.3.2 in c:\\users\\javie\\appdata\\local\\programs\\python\\python312\\lib\\site-packages (from imageio) (10.1.0)\n"
     ]
    },
    {
     "name": "stderr",
     "output_type": "stream",
     "text": [
      "\n",
      "[notice] A new release of pip is available: 23.3.1 -> 24.2\n",
      "[notice] To update, run: python.exe -m pip install --upgrade pip\n"
     ]
    }
   ],
   "source": [
    "!pip install imageio opencv-python==4.9.0.80"
   ]
  },
  {
   "cell_type": "markdown",
   "metadata": {},
   "source": [
    "## **Librerías**"
   ]
  },
  {
   "cell_type": "code",
   "execution_count": 2,
   "metadata": {},
   "outputs": [],
   "source": [
    "from typing import List\n",
    "import numpy as np\n",
    "import imageio\n",
    "import cv2\n",
    "import copy\n",
    "import glob\n",
    "import os\n",
    "from os.path import join, dirname"
   ]
  },
  {
   "cell_type": "markdown",
   "metadata": {},
   "source": [
    "## **Apartado A: Calibración de cámara** (derecha e izquierda)"
   ]
  },
  {
   "cell_type": "markdown",
   "metadata": {},
   "source": [
    "En este apartado se realiza la calibración de dos cámaras de un sistema estereoscópico. Para ello se trabajará con las imágenes de las carpetas ``left`` y ``right``. En primer lugar se trabajará con la carpeta ``left``. Posteriormente, deberá repetir el proceso con las imágenes en la carpeta ``right``. Ambas carpetas contienen imágenes con las que se calibrarán las cámaras. En ellas aparece el patrón de calibración en diferentes posiciones y orientaciones. Estas imágenes serán los datos de entrada.\n",
    "\n",
    "Los pasos que deberá seguir para calibrar una cámara son:\n",
    "\n",
    "1. Defina y ejecute el método para cargar imágenes ``load_images()``.\n",
    "2. Detecte las esquinas de los patrones usando ``cv2.findChessboardCorners()``. Refine las detecciones con ``cv2.cornerSubPix()``.\n",
    "3. Compruebe que las detecciones son correctas dibujando los resultados con ``cv2.drawChessboardCorners()``.\n",
    "4. Defina y ejecute el método ``get_chessboard_points(chessboard_shape, dx, dy)`` que proporcione las coordenadas 3D de las esquinas del patrón. El sistema de referencia utilizado deberá estar anclado al propio patrón.\n",
    "5. Utilice ``cv2.calibrateCamera`` para obtener los parámetros de calibración para la cámara izquierda."
   ]
  },
  {
   "cell_type": "markdown",
   "metadata": {},
   "source": [
    "### **Tarea A.1:** Defina y ejecute el método para cargar imágenes ``load_images()``."
   ]
  },
  {
   "cell_type": "code",
   "execution_count": 3,
   "metadata": {},
   "outputs": [],
   "source": [
    "def load_images(filenames: List) -> List:\n",
    "    return [imageio.imread(filename) for filename in filenames]"
   ]
  },
  {
   "cell_type": "code",
   "execution_count": 4,
   "metadata": {},
   "outputs": [
    {
     "name": "stderr",
     "output_type": "stream",
     "text": [
      "C:\\Users\\javie\\AppData\\Local\\Temp\\ipykernel_10424\\283608422.py:2: DeprecationWarning: Starting with ImageIO v3 the behavior of this function will switch to that of iio.v3.imread. To keep the current behavior (and make this warning disappear) use `import imageio.v2 as imageio` or call `imageio.v2.imread` directly.\n",
      "  return [imageio.imread(filename) for filename in filenames]\n"
     ]
    }
   ],
   "source": [
    "# With glob\n",
    "\n",
    "def get_paths(file: str, extra: str = \"\") -> List:\n",
    "    if extra == \"\":\n",
    "        path = join(\"..\", \"data\", f\"{file}/{file}*.jpg\")\n",
    "    else:\n",
    "        path = join(\"..\", \"data\", f\"{file}/{extra}*.jpg\")\n",
    "    path = os.path.abspath(path)\n",
    "    return [f for f in glob.glob(path)]\n",
    "\n",
    "\n",
    "imgs_path = get_paths(\"left\")\n",
    "imgs = load_images(imgs_path)"
   ]
  },
  {
   "cell_type": "markdown",
   "metadata": {},
   "source": [
    "### **Tarea A.2:** Detecte las esquinas de los patrones usando ``cv2.findChessboardCorners()``. Refine las detecciones con ``cv2.cornerSubPix()``."
   ]
  },
  {
   "cell_type": "code",
   "execution_count": 5,
   "metadata": {},
   "outputs": [],
   "source": [
    "# TODO Find corners with cv2.findChessboardCorners()\n",
    "corners =  [cv2.findChessboardCorners(img, (8, 6)) for img in imgs]\n",
    "valid_imgs = [img for img, corner in zip(imgs, corners) if corner[0]]"
   ]
  },
  {
   "cell_type": "code",
   "execution_count": 6,
   "metadata": {},
   "outputs": [],
   "source": [
    "imgs_gray = [cv2.cvtColor(valid_imgs[i], cv2.COLOR_RGB2GRAY) for i in range(len(valid_imgs))]\n",
    "valid_corners = [corners[i][1] for i in range(len(corners)) if corners[i][0]]\n",
    "corners_copy = copy.deepcopy(valid_corners)\n",
    "criteria = (cv2.TERM_CRITERIA_EPS + cv2.TERM_CRITERIA_MAX_ITER, 30, 0.01) # EPS + MAX_ITER, max 30 iterations, 0.01 accuracy(epsilon)\n",
    "corners_refined = [cv2.cornerSubPix(i, cor, (8, 6), (-1, -1), criteria) for i, cor in zip(imgs_gray, corners_copy)]\n"
   ]
  },
  {
   "cell_type": "markdown",
   "metadata": {},
   "source": [
    "### **Tarea A.3:** Compruebe que las detecciones son correctas dibujando los resultados con ``cv2.drawChessboardCorners()``"
   ]
  },
  {
   "cell_type": "code",
   "execution_count": 7,
   "metadata": {},
   "outputs": [],
   "source": [
    "# TODO Show images and save when needed\n",
    "\n",
    "def show_image(img, title='image'):\n",
    "    cv2.imshow(title, img)\n",
    "    cv2.waitKey(0)\n",
    "    cv2.destroyAllWindows()\n",
    "    \n",
    "def write_image(img, path):\n",
    "    cv2.imwrite(path, img)\n",
    "\n",
    "\n",
    "imgs_with_corners = [cv2.drawChessboardCorners(valid_imgs[i], (8, 6), corners_refined[i], True) for i in range(len(valid_imgs))]\n",
    "for i in range(len(imgs_with_corners)):\n",
    "    show_image(imgs_with_corners[i], imgs_path[i])\n",
    "    write_image(imgs_with_corners[i], join(dirname(imgs_path[i]), f\"corners_{i}.jpg\"))\n"
   ]
  },
  {
   "cell_type": "markdown",
   "metadata": {},
   "source": [
    "### **Tarea A.4:** Defina y ejecute el método ``get_chessboard_points(chessboard_shape, dx, dy)``"
   ]
  },
  {
   "cell_type": "code",
   "execution_count": 8,
   "metadata": {},
   "outputs": [],
   "source": [
    "# TODO Design the method. It should return a np.array with np.float32 elements\n",
    "def get_chessboard_points(chessboard_shape, dx, dy):\n",
    "    objp = np.zeros((chessboard_shape[0] * chessboard_shape[1], 3), np.float32)\n",
    "\n",
    "    objp[:, :2] = np.mgrid[0:chessboard_shape[0], 0:chessboard_shape[1]].T.reshape(-1, 2)\n",
    "    objp[:, 0] *= dx\n",
    "    objp[:, 1] *= dy\n",
    "    return np.array(objp)\n",
    "\n",
    "chessboard_points = [get_chessboard_points((8,6), 30, 30) for i in range(len(valid_imgs))]"
   ]
  },
  {
   "cell_type": "markdown",
   "metadata": {},
   "source": [
    "### **Tarea A.5:** Utilice ``cv2.calibrateCamera()`` para obtener los parámetros de calibración para la cámara izquierda"
   ]
  },
  {
   "cell_type": "code",
   "execution_count": 9,
   "metadata": {},
   "outputs": [],
   "source": [
    "valid_corners = np.asarray(valid_corners, dtype=np.float32)"
   ]
  },
  {
   "cell_type": "code",
   "execution_count": 10,
   "metadata": {},
   "outputs": [],
   "source": [
    "rms, intrinsics, dist_coeffs, rvecs, tvecs = cv2.calibrateCamera(chessboard_points, valid_corners, imgs_gray[0].shape[::-1], None, None)\n",
    "\n",
    "# Obtain extrinsics\n",
    "extrinsics = list(map(lambda rvec, tvec: np.hstack((cv2.Rodrigues(rvec)[0], tvec)), rvecs, tvecs))"
   ]
  },
  {
   "cell_type": "code",
   "execution_count": 11,
   "metadata": {},
   "outputs": [
    {
     "name": "stdout",
     "output_type": "stream",
     "text": [
      "Intrinsics:\n",
      " [[419.17367964   0.         149.87203907]\n",
      " [  0.         420.67532299 128.88566155]\n",
      " [  0.           0.           1.        ]]\n",
      "Distortion coefficients:\n",
      " [[ 2.54768626e-02 -3.34669238e+00  4.93017405e-03 -6.84826718e-03\n",
      "   2.00281254e+01]]\n",
      "Root mean squared reprojection error:\n",
      " 0.15307311371562507\n"
     ]
    }
   ],
   "source": [
    "# Print outputs\n",
    "print(\"Intrinsics:\\n\", intrinsics)\n",
    "print(\"Distortion coefficients:\\n\", dist_coeffs)\n",
    "print(\"Root mean squared reprojection error:\\n\", rms)"
   ]
  },
  {
   "cell_type": "markdown",
   "metadata": {},
   "source": [
    "### **Pregunta A.1:** Repita el proceso (carga de imágenes, detección y comprobación de esquinas, etc.) para la cámara derecha."
   ]
  },
  {
   "cell_type": "code",
   "execution_count": 12,
   "metadata": {},
   "outputs": [
    {
     "name": "stderr",
     "output_type": "stream",
     "text": [
      "C:\\Users\\javie\\AppData\\Local\\Temp\\ipykernel_10424\\283608422.py:2: DeprecationWarning: Starting with ImageIO v3 the behavior of this function will switch to that of iio.v3.imread. To keep the current behavior (and make this warning disappear) use `import imageio.v2 as imageio` or call `imageio.v2.imread` directly.\n",
      "  return [imageio.imread(filename) for filename in filenames]\n"
     ]
    },
    {
     "name": "stdout",
     "output_type": "stream",
     "text": [
      "Intrinsics:\n",
      " [[432.19183608   0.         146.77820873]\n",
      " [  0.         435.44775772 137.27781915]\n",
      " [  0.           0.           1.        ]]\n",
      "Distortion coefficients:\n",
      " [[-0.1186237  -0.186011    0.00625041 -0.00822418  1.08945459]]\n",
      "Root mean squared reprojection error:\n",
      " 0.205888506208714\n"
     ]
    }
   ],
   "source": [
    "imgs_path = get_paths(\"right\")\n",
    "imgs = load_images(imgs_path)\n",
    "corners = [cv2.findChessboardCorners(img, (8, 6)) for img in imgs]\n",
    "imgs = [img for img, cor in zip(imgs, corners) if cor[0]]\n",
    "corners = [cor for cor in corners if cor[0]]\n",
    "corners_copy = copy.deepcopy(corners)\n",
    "criteria = (cv2.TERM_CRITERIA_EPS + cv2.TERM_CRITERIA_MAX_ITER, 30, 0.01) # EPS + MAX_ITER, max 30 iterations, 0.01 accuracy(epsilon)\n",
    "imgs_gray = [cv2.cvtColor(i, cv2.COLOR_BGR2GRAY) for i in imgs]\n",
    "corners_refined = []\n",
    "for i, cor in zip(imgs_gray, corners_copy):\n",
    "    if cor[0]:\n",
    "        corners_refined.append(cv2.cornerSubPix(i, cor[1], (8, 6), (-1, -1), criteria))\n",
    "    else:\n",
    "        print(\"No corners found in image\")\n",
    "\n",
    "imgs_with_corners = [cv2.drawChessboardCorners(imgs[i], (8, 6), corners_refined[i], corners[i][0]) for i in range(len(imgs)) if corners[i][0]]\n",
    "for i in range(len(imgs_with_corners)):\n",
    "    # show_image(imgs_with_corners[i], imgs_path[i])\n",
    "    write_image(imgs_with_corners[i], join(dirname(imgs_path[i]), f\"corners_{i}.jpg\"))\n",
    "\n",
    "# imgs_with_corners = get_imgs_corners_draw_write(imgs, corners)\n",
    "chessboard_points = [get_chessboard_points((8,6), 30, 30) for i in range(len(imgs))]\n",
    "valid_corners = [cor[1] for cor in corners if cor[0]]\n",
    "valid_corners = np.asarray(valid_corners, dtype=np.float32)\n",
    "\n",
    "rms, intrinsics, dist_coeffs, rvecs, tvecs = cv2.calibrateCamera(chessboard_points, valid_corners, imgs_gray[0].shape[::-1], None, None)\n",
    "\n",
    "# Obtain extrinsics\n",
    "extrinsics = list(map(lambda rvec, tvec: np.hstack((cv2.Rodrigues(rvec)[0], tvec)), rvecs, tvecs))\n",
    "\n",
    "# Print outputs\n",
    "print(\"Intrinsics:\\n\", intrinsics)\n",
    "print(\"Distortion coefficients:\\n\", dist_coeffs)\n",
    "print(\"Root mean squared reprojection error:\\n\", rms)\n"
   ]
  },
  {
   "cell_type": "markdown",
   "metadata": {},
   "source": [
    "### **Pregunta A.2:** Diferencias entre cv2.findChessboardCorners() y cv2.cornerSubPix()"
   ]
  },
  {
   "cell_type": "markdown",
   "metadata": {},
   "source": [
    "The differences between cv2.findChessboardCorners() and cv2.cornerSubPix() are:\n",
    "\n",
    "- cv2.findChessboardCorners(): This function is used to find the corners of the chessboard pattern with a fast algorithm.\n",
    "\n",
    "- cv2.cornerSubPix(): This function improves the accuracy by iteratively refining the corner locations. "
   ]
  },
  {
   "cell_type": "markdown",
   "metadata": {},
   "source": [
    "#### Results with cv2.findChessboardCorners():"
   ]
  },
  {
   "cell_type": "code",
   "execution_count": 13,
   "metadata": {},
   "outputs": [
    {
     "name": "stdout",
     "output_type": "stream",
     "text": [
      "Intrinsics:\n",
      " [[432.19183608   0.         146.77820873]\n",
      " [  0.         435.44775772 137.27781915]\n",
      " [  0.           0.           1.        ]]\n",
      "Distortion coefficients:\n",
      " [[-0.1186237  -0.186011    0.00625041 -0.00822418  1.08945459]]\n",
      "Root mean squared reprojection error:\n",
      " 0.205888506208714\n"
     ]
    }
   ],
   "source": [
    "corners_not_refined = [cor[1] for cor in corners if cor[0]]\n",
    "corners_not_refined = np.asarray(corners_not_refined, dtype=np.float32)\n",
    "\n",
    "# Obtain the extrinsics\n",
    "rms, intrinsics, dist_coeffs, rvecs, tvecs = cv2.calibrateCamera(chessboard_points, corners_not_refined, imgs_gray[0].shape[::-1], intrinsics, dist_coeffs)\n",
    "\n",
    "# Obtain extrinsics\n",
    "extrinsics = list(map(lambda rvec, tvec: np.hstack((cv2.Rodrigues(rvec)[0], tvec)), rvecs, tvecs))\n",
    "\n",
    "# Print outputs\n",
    "print(\"Intrinsics:\\n\", intrinsics)\n",
    "print(\"Distortion coefficients:\\n\", dist_coeffs)\n",
    "print(\"Root mean squared reprojection error:\\n\", rms)"
   ]
  },
  {
   "cell_type": "markdown",
   "metadata": {},
   "source": [
    "#### Results with cv2.cornerSubPix():"
   ]
  },
  {
   "cell_type": "code",
   "execution_count": 14,
   "metadata": {},
   "outputs": [
    {
     "name": "stdout",
     "output_type": "stream",
     "text": [
      "Intrinsics:\n",
      " [[431.21056764   0.         146.62610243]\n",
      " [  0.         432.38883699 137.31340625]\n",
      " [  0.           0.           1.        ]]\n",
      "Distortion coefficients:\n",
      " [[-0.11667293 -0.28562652  0.00665848 -0.00543096  2.06740464]]\n",
      "Root mean squared reprojection error:\n",
      " 0.10285746319857715\n"
     ]
    }
   ],
   "source": [
    "corners_refined_copy = copy.deepcopy(corners_refined)\n",
    "corners_refined_copy = np.asarray(corners_refined_copy, dtype=np.float32)\n",
    "\n",
    "# Obtain the extrinsics\n",
    "rms, intrinsics, dist_coeffs, rvecs, tvecs = cv2.calibrateCamera(chessboard_points, corners_refined_copy, imgs_gray[0].shape[::-1], intrinsics, dist_coeffs)\n",
    "\n",
    "# Obtain extrinsics\n",
    "extrinsics = list(map(lambda rvec, tvec: np.hstack((cv2.Rodrigues(rvec)[0], tvec)), rvecs, tvecs))\n",
    "\n",
    "# Print outputs\n",
    "print(\"Intrinsics:\\n\", intrinsics)\n",
    "print(\"Distortion coefficients:\\n\", dist_coeffs)\n",
    "print(\"Root mean squared reprojection error:\\n\", rms)\n"
   ]
  },
  {
   "cell_type": "markdown",
   "metadata": {},
   "source": [
    "We can observe that while the intrinsic parameters are similar, the resulting RMS error is close to half with the cv2.cornerSubPix() method. This is because the cv2.cornerSubPix() method refines the corner locations iteratively, which improves the accuracy of the corner detection."
   ]
  },
  {
   "cell_type": "markdown",
   "metadata": {},
   "source": [
    "### **Pregunta A.3:** Número mínimo de imágenes necesarias para calibrar."
   ]
  },
  {
   "cell_type": "code",
   "execution_count": 15,
   "metadata": {},
   "outputs": [
    {
     "name": "stderr",
     "output_type": "stream",
     "text": [
      "C:\\Users\\javie\\AppData\\Local\\Temp\\ipykernel_10424\\283608422.py:2: DeprecationWarning: Starting with ImageIO v3 the behavior of this function will switch to that of iio.v3.imread. To keep the current behavior (and make this warning disappear) use `import imageio.v2 as imageio` or call `imageio.v2.imread` directly.\n",
      "  return [imageio.imread(filename) for filename in filenames]\n"
     ]
    },
    {
     "data": {
      "text/plain": [
       "[<matplotlib.lines.Line2D at 0x20c3c835640>]"
      ]
     },
     "execution_count": 15,
     "metadata": {},
     "output_type": "execute_result"
    },
    {
     "data": {
      "image/png": "[encoded data removed]",
      "text/plain": [
       "<Figure size 640x480 with 1 Axes>"
      ]
     },
     "metadata": {},
     "output_type": "display_data"
    }
   ],
   "source": [
    "# We are going to study the problem of the number of images needed to calibrate the camera using a Pareto diagram\n",
    "# We are going to use the same images as before\n",
    "\n",
    "imgs_path = get_paths(\"left\")\n",
    "imgs = load_images(imgs_path)\n",
    "corners = [cv2.findChessboardCorners(img, (8, 6)) for img in imgs]\n",
    "imgs = [img for img, cor in zip(imgs, corners) if cor[0]]\n",
    "corners = [cor for cor in corners if cor[0]]\n",
    "corners_copy = copy.deepcopy(corners)\n",
    "criteria = (cv2.TERM_CRITERIA_EPS + cv2.TERM_CRITERIA_MAX_ITER, 30, 0.01) # EPS + MAX_ITER, max 30 iterations, 0.01 accuracy(epsilon)\n",
    "imgs_gray = [cv2.cvtColor(i, cv2.COLOR_BGR2GRAY) for i in imgs]\n",
    "corners_refined = []\n",
    "for i, cor in zip(imgs_gray, corners_copy):\n",
    "    if cor[0]:\n",
    "        corners_refined.append(cv2.cornerSubPix(i, cor[1], (8, 6), (-1, -1), criteria))\n",
    "    else:\n",
    "        print(\"No corners found in image\")\n",
    "\n",
    "imgs_with_corners = [cv2.drawChessboardCorners(imgs[i], (8, 6), corners_refined[i], corners[i][0]) for i in range(len(imgs)) if corners[i][0]]\n",
    "\n",
    "results = {}\n",
    "\n",
    "for n_imagenes in range(1, len(imgs)+1):\n",
    "    chessboard_points = [get_chessboard_points((8,6), 30, 30) for i in range(n_imagenes)]\n",
    "    valid_corners = [cor[1] for cor in corners[:n_imagenes] if cor[0]]\n",
    "    valid_corners = np.asarray(valid_corners, dtype=np.float32)\n",
    "\n",
    "    rms, intrinsics, dist_coeffs, rvecs, tvecs = cv2.calibrateCamera(chessboard_points, valid_corners, imgs_gray[0].shape[::-1], None, None)\n",
    "\n",
    "    # Obtain extrinsics\n",
    "    extrinsics = list(map(lambda rvec, tvec: np.hstack((cv2.Rodrigues(rvec)[0], tvec)), rvecs, tvecs))\n",
    "\n",
    "    # Print outputs\n",
    "    results[n_imagenes] = rms\n",
    "\n",
    "import matplotlib.pyplot as plt\n",
    "\n",
    "plt.plot(list(results.keys()), list(results.values()))\n",
    "    "
   ]
  },
  {
   "cell_type": "markdown",
   "metadata": {},
   "source": [
    "The minimum number of images required to calibrate a camera is 13 images, less than this number may not provide accurate calibration results."
   ]
  },
  {
   "cell_type": "markdown",
   "metadata": {},
   "source": [
    "## **Apartado B: Corrección de distorsión** (ojo de pez)"
   ]
  },
  {
   "cell_type": "markdown",
   "metadata": {},
   "source": [
    "En este apartado se trabajará en la corrección de la distorsión debido a lentes de ojo de pez. Primero se calibrará una cámara con este tipo de lente, utilizando las imágenes de la carpeta ``fisheye``. Posteriormente se utilizarán estos parámetros de calibración para corregir la distorsión de una de las imágenes de calibración.\n",
    "\n",
    "Los pasos que deberá seguir para calibrar una cámara con distorsión de ojo de pez son:\n",
    "\n",
    "1. Reutilice el método ``load_images()`` para cargar las imágenes de la carpeta ``fisheye``.\n",
    "2. Detecte las equinas procesando las imágenes con los métodos ``cv2.findChessboardCorners()`` y ``cv2.cornerSubPix()``.\n",
    "3. Reutilice la función ``get_chessboard_points()`` para obtener las coordenadas del tablero.\n",
    "4. Defina los argumentos para la función de calibración.\n",
    "5. Calibre con ``cv2.fisheye.calibrate()``"
   ]
  },
  {
   "cell_type": "markdown",
   "metadata": {},
   "source": [
    "### **Tarea B.1:** Reutilice el método ``load_images()`` para cargar las imágenes de la carpeta ``fisheye``"
   ]
  },
  {
   "cell_type": "code",
   "execution_count": 16,
   "metadata": {},
   "outputs": [
    {
     "name": "stderr",
     "output_type": "stream",
     "text": [
      "C:\\Users\\javie\\AppData\\Local\\Temp\\ipykernel_10424\\283608422.py:2: DeprecationWarning: Starting with ImageIO v3 the behavior of this function will switch to that of iio.v3.imread. To keep the current behavior (and make this warning disappear) use `import imageio.v2 as imageio` or call `imageio.v2.imread` directly.\n",
      "  return [imageio.imread(filename) for filename in filenames]\n"
     ]
    }
   ],
   "source": [
    "# TODO Build a list containing the paths of all images from the fisheye camera and load images\n",
    "fisheye_imgs_path = get_paths(\"fisheye\", \"VMRImage\")\n",
    "fisheye_imgs = load_images(fisheye_imgs_path)"
   ]
  },
  {
   "cell_type": "markdown",
   "metadata": {},
   "source": [
    "### **Tarea B.2:** Detecte las equinas procesando las imágenes con los métodos ``cv2.findChessboardCorners()`` y ``cv2.cornerSubPix()``."
   ]
  },
  {
   "cell_type": "code",
   "execution_count": 17,
   "metadata": {},
   "outputs": [
    {
     "name": "stdout",
     "output_type": "stream",
     "text": [
      "Number of images with detected corners:  10\n"
     ]
    }
   ],
   "source": [
    "imgs_corners = []\n",
    "# Parameters for cv2.cornerSubPix()\n",
    "subpix_criteria = (cv2.TERM_CRITERIA_EPS+cv2.TERM_CRITERIA_MAX_ITER, 30, 0.1)\n",
    "#TODO Complete the required parts of the loop\n",
    "for img in fisheye_imgs:\n",
    "    \n",
    "    corners = cv2.findChessboardCorners(img, (7, 6))\n",
    "    \n",
    "    gray_img = cv2.cvtColor(img, cv2.COLOR_BGR2GRAY)\n",
    "    refined_corners = cv2.cornerSubPix(gray_img, corners[1], (3,3), (-1,-1), subpix_criteria)\n",
    "\n",
    "    # TODO append only those refined_corners with proper detections\n",
    "    if corners[0]:\n",
    "        imgs_corners.append(refined_corners)\n",
    "        \n",
    "print(\"Number of images with detected corners: \", len(imgs_corners))"
   ]
  },
  {
   "cell_type": "markdown",
   "metadata": {},
   "source": [
    "### **Tarea B.3:** Reutilice la función ``get_chessboard_points()`` para obtener las coordenadas del tablero"
   ]
  },
  {
   "cell_type": "code",
   "execution_count": 18,
   "metadata": {},
   "outputs": [],
   "source": [
    "# TODO Define the chessboard dimensions and the lenght of the squares (in [mm])\n",
    "chessboard_dims = (7, 6)\n",
    "length = 30\n",
    "fisheye_chessboard_points = np.asarray([get_chessboard_points(chessboard_dims, length, length).reshape(-1,1,3)] * len(imgs_corners))"
   ]
  },
  {
   "cell_type": "markdown",
   "metadata": {},
   "source": [
    "### **Tarea B.4:** Defina los argumentos para la calibración"
   ]
  },
  {
   "cell_type": "code",
   "execution_count": 19,
   "metadata": {},
   "outputs": [],
   "source": [
    "# Parameters for cv2.fisheye.calibrate()\n",
    "calibration_flags = cv2.fisheye.CALIB_RECOMPUTE_EXTRINSIC+cv2.fisheye.CALIB_FIX_SKEW\n",
    "intrinsics = np.zeros((3, 3))\n",
    "distortion = np.zeros((4, 1))\n",
    "rotations = [np.zeros((1, 1, 3), dtype=np.float64) for _ in imgs_corners]\n",
    "traslations = [np.zeros((1, 1, 3), dtype=np.float64) for _ in imgs_corners]\n"
   ]
  },
  {
   "cell_type": "markdown",
   "metadata": {},
   "source": [
    "### **Tarea B.5:** Calibración"
   ]
  },
  {
   "cell_type": "code",
   "execution_count": 20,
   "metadata": {},
   "outputs": [],
   "source": [
    "imgs_corners = np.asarray(imgs_corners, dtype=np.float32)\n",
    "\n",
    "rms, _, _, _, _ = \\\n",
    "cv2.fisheye.calibrate(fisheye_chessboard_points, imgs_corners, gray_img.shape[::-1], intrinsics, distortion, rotations, traslations, calibration_flags, subpix_criteria)"
   ]
  },
  {
   "cell_type": "code",
   "execution_count": 21,
   "metadata": {},
   "outputs": [
    {
     "name": "stdout",
     "output_type": "stream",
     "text": [
      "[[188.86914026   0.         503.92900347]\n",
      " [  0.         185.32638678 373.58044468]\n",
      " [  0.           0.           1.        ]]\n",
      "[[ 0.07734388]\n",
      " [ 0.01482361]\n",
      " [ 0.02351869]\n",
      " [-0.02757565]]\n",
      "Root mean squared reprojection error:  136.8425931206207\n"
     ]
    }
   ],
   "source": [
    "# Show intrinsic matrix and distortion coefficients values\n",
    "print(intrinsics)\n",
    "print(distortion)\n",
    "print(\"Root mean squared reprojection error: \", rms)"
   ]
  },
  {
   "cell_type": "markdown",
   "metadata": {},
   "source": [
    "### **Pregunta B.1:** Corrija la distorsión de las 2 primeras imágenes de la carpeta ``fisheye``"
   ]
  },
  {
   "cell_type": "code",
   "execution_count": 22,
   "metadata": {},
   "outputs": [],
   "source": [
    "# TODO Search in the documentation to define 'dim'\n",
    "dim = gray_img.shape[::-1]\n",
    "map1, map2 = cv2.fisheye.initUndistortRectifyMap(intrinsics, distortion, np.eye(3), intrinsics, dim, cv2.CV_16SC2)"
   ]
  },
  {
   "cell_type": "code",
   "execution_count": 23,
   "metadata": {},
   "outputs": [],
   "source": [
    "# correct distortion using cv2.remap()\n",
    "\n",
    "for i, img in enumerate(fisheye_imgs):\n",
    "    undistorted_img = cv2.remap(img, map1, map2, interpolation=cv2.INTER_LINEAR, borderMode=cv2.BORDER_CONSTANT)\n",
    "    show_image(undistorted_img)\n",
    "    cv2.waitKey(0)\n",
    "    cv2.destroyAllWindows()\n",
    "    cv2.imwrite(join(dirname(fisheye_imgs_path[0]), f\"undistorted_{i}.jpg\"), undistorted_img)"
   ]
  }
 ],
 "metadata": {
  "kernelspec": {
   "display_name": "Python 3",
   "language": "python",
   "name": "python3"
  },
  "language_info": {
   "codemirror_mode": {
    "name": "ipython",
    "version": 3
   },
   "file_extension": ".py",
   "mimetype": "text/x-python",
   "name": "python",
   "nbconvert_exporter": "python",
   "pygments_lexer": "ipython3",
   "version": "3.12.0"
  }
 },
 "nbformat": 4,
 "nbformat_minor": 2
}
