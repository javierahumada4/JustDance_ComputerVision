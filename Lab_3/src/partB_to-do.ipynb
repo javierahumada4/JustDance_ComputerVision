{
 "cells": [
  {
   "cell_type": "markdown",
   "metadata": {},
   "source": [
    "# **Sesión 3: Procesamiento Avanzado de Imágenes** ⚙️🖼️"
   ]
  },
  {
   "cell_type": "markdown",
   "metadata": {},
   "source": [
    "## **Librerías**"
   ]
  },
  {
   "cell_type": "code",
   "execution_count": 2,
   "metadata": {},
   "outputs": [],
   "source": [
    "import cv2\n",
    "import os\n",
    "import glob\n",
    "import numpy as np"
   ]
  },
  {
   "cell_type": "markdown",
   "metadata": {},
   "source": [
    "## **Apartado B:** Detección de lineas rectas\n",
    "El objetivo de este apartado es la detección de líneas y bordes en las imágenes de la carpeta `data`.\n",
    "1. **Tarea B.1.** Aplique `cv2.Canny()` a las imágenes de trabajo ajustando los hiperparámetros.\n",
    "3. **Tarea B.2.** Implemente la función `draw_lines()` para pintar las líneas sobre las imágenes.\n",
    "4. **Tarea B.3.** Aplique Hough con `cv2.HoughLinesP()` a las imágenes de trabajo para extraer líneas y afine los hiperparámetros.\n",
    "5. **Problema B.1.** Repita el procedimiento para extraer las líneas de las dos imágenes restantes."
   ]
  },
  {
   "cell_type": "markdown",
   "metadata": {},
   "source": [
    "### **NOTA**\n",
    "Podéis usar el mismo formato de guardado de resultados y nomenclatura que en partA o hacer uso de la funcion `show_image()` del Lab 2. Usad las herramientas con las que os sintáis más cómodos"
   ]
  },
  {
   "cell_type": "code",
   "execution_count": 3,
   "metadata": {},
   "outputs": [],
   "source": [
    "folder_name = \"partB\"\n",
    "folder_path = os.path.join(os.path.dirname(os.getcwd()), folder_name)\n",
    "os.makedirs(folder_path, exist_ok=True)"
   ]
  },
  {
   "cell_type": "markdown",
   "metadata": {},
   "source": [
    "### **Tarea B.1.** Aplique `cv2.Canny()` a las imágenes de trabajo ajustando los hiperparámetros"
   ]
  },
  {
   "cell_type": "code",
   "execution_count": 7,
   "metadata": {},
   "outputs": [],
   "source": [
    "edge_imgs = []  # List to store Canny edge images for later Hough transform\n",
    "\n",
    "# Hyperparameters for Canny edge detection\n",
    "low_threshold = 50      # Adjust as needed for sensitivity\n",
    "high_threshold = 120    # Adjust as needed for sensitivity\n",
    "\n",
    "# Process first image\n",
    "source_paths = sorted(glob.glob(\"../data/source/*\"))\n",
    "\n",
    "def apply_save_canny(save_name:str, index):\n",
    "    img = cv2.imread(source_paths[index])\n",
    "    gray_img = cv2.cvtColor(img, cv2.COLOR_BGR2GRAY)\n",
    "    edge_img = cv2.Canny(gray_img, low_threshold, high_threshold)\n",
    "\n",
    "    cv2.imwrite(os.path.join(folder_path, f\"canny_{save_name}.png\"), edge_img)\n",
    "    edge_imgs.append(edge_img)\n",
    "\n",
    "\n",
    "apply_save_canny(\"geometry\", 0)\n",
    "apply_save_canny(\"football\", 1)\n"
   ]
  },
  {
   "cell_type": "markdown",
   "metadata": {},
   "source": [
    "### **Tarea B.2.** Implemente `draw_lines()` para pintar las lineas sobre cada imagen"
   ]
  },
  {
   "cell_type": "code",
   "execution_count": 8,
   "metadata": {},
   "outputs": [],
   "source": [
    "# TODO Draw the lines on the images. A line is a tuple of 4 integers (x1, y1, x2, y2) where (x1, y1) and (x2, y2) are the coordinates of the two points of the line.\n",
    "def draw_lines(img, lines, color, thickness):\n",
    "    for line in lines:\n",
    "        x1, y1, x2, y2 = line\n",
    "        cv2.line(img, (x1, y1), (x2, y2), color, thickness)\n",
    "    return img"
   ]
  },
  {
   "cell_type": "markdown",
   "metadata": {},
   "source": [
    "### **Tarea B.3.** Aplique Hough con `cv2.HoughLinesP()` a las imágenes de trabajo para extraer líneas y afine los hiperparámetros"
   ]
  },
  {
   "cell_type": "code",
   "execution_count": 23,
   "metadata": {},
   "outputs": [],
   "source": [
    "# TODO Apply the hough transform to the images, play with the parameters to get a good result\n",
    "\n",
    "# Hough Transform parameters\n",
    "rho = 1                # Distance resolution in pixels\n",
    "theta = np.pi / 180    # Angle resolution in radians (1 degree)\n",
    "threshold = 30         # Minimum number of intersections to detect a line\n",
    "min_line_length = 10   # Minimum length of a line in pixels\n",
    "max_line_gap = 10      # Maximum gap between segments to link them as a single line\n",
    "\n",
    "def apply_hough_transform(save_name, index):\n",
    "    original_img = cv2.imread(source_paths[index])  # Replace with actual path\n",
    "    edges = edge_imgs[index]  # First edge image\n",
    "\n",
    "    # Apply the Hough Line Transform\n",
    "    lines = cv2.HoughLinesP(edges, rho, theta, threshold, minLineLength=min_line_length, maxLineGap=max_line_gap)\n",
    "\n",
    "    # Draw the lines on a copy of the original image\n",
    "    if lines is not None:\n",
    "        lines = [line[0] for line in lines]  # Flatten array if necessary\n",
    "        img_with_lines = draw_lines(original_img.copy(), lines, color=(0, 255, 0), thickness=2)  # Green lines\n",
    "\n",
    "        # Save the result\n",
    "    cv2.imwrite(os.path.join(folder_path, f\"hugh_{save_name}.png\"), img_with_lines)\n",
    "\n",
    "\n",
    "apply_hough_transform(\"geometry\", 0)\n",
    "apply_hough_transform(\"football\", 1)\n",
    "\n"
   ]
  },
  {
   "cell_type": "markdown",
   "metadata": {},
   "source": [
    "### **Problema B.1.** Repita el procedimiento para extraer las líneas de las dos imágenes restantes"
   ]
  },
  {
   "cell_type": "code",
   "execution_count": 24,
   "metadata": {},
   "outputs": [],
   "source": [
    "apply_save_canny(\"sudoku\", 2)\n",
    "apply_hough_transform(\"sudoku\", 2)\n",
    "\n",
    "apply_save_canny(\"tennis\", 3)\n",
    "apply_hough_transform(\"tennis\", 3)"
   ]
  }
 ],
 "metadata": {
  "kernelspec": {
   "display_name": "Python 3",
   "language": "python",
   "name": "python3"
  },
  "language_info": {
   "codemirror_mode": {
    "name": "ipython",
    "version": 3
   },
   "file_extension": ".py",
   "mimetype": "text/x-python",
   "name": "python",
   "nbconvert_exporter": "python",
   "pygments_lexer": "ipython3",
   "version": "3.12.0"
  }
 },
 "nbformat": 4,
 "nbformat_minor": 2
}
