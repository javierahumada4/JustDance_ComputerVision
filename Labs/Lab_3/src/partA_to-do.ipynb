{
 "cells": [
  {
   "cell_type": "markdown",
   "metadata": {},
   "source": [
    "# **Sesión 3: Procesamiento Avanzado de Imágenes** ⚙️🖼️"
   ]
  },
  {
   "cell_type": "markdown",
   "metadata": {},
   "source": [
    "## **Librerías**"
   ]
  },
  {
   "cell_type": "code",
   "execution_count": 1,
   "metadata": {},
   "outputs": [],
   "source": [
    "import numpy as np\n",
    "import cv2\n",
    "import os\n",
    "import imageio\n",
    "from typing import List\n",
    "import glob"
   ]
  },
  {
   "cell_type": "markdown",
   "metadata": {},
   "source": [
    "## **Apartado A: Detección de esquinas**"
   ]
  },
  {
   "cell_type": "markdown",
   "metadata": {},
   "source": [
    "El objetivo de este apartado es detectar las esquinas presentes en las imágenes de la carpeta ``data/source``.\n",
    "\n",
    "1. **Tarea A.1**. Cree una nueva capeta llamada ``partA``, dentro de la carpeta  ``data``, con el objetivo de presentar en ella los resultados de esta parte de la práctica.\n",
    "2. **Tarea A.2**. Defina y ejecute los dos métodos propuestos para cargar imágenes ``imageio_load_images()`` y ``opencv_load_images()``. Observe lo que ocurre al guardar ambas imágenes usando la misma función ``cv2.imwrite()``.\n",
    "3. **Tarea A.3.** Defina la función ``harris_corner_detector()``, que servirá para la posterior aplicación sobre las imágenes de trabajo. \n",
    "4. **Tarea A.4.** Aplique la función ``harris_corner_detector()`` sobre las imágenes de trabajo. Asegúrese de que las imágenes quedan guardadas como se especifica en los comentarios.\n",
    "5. **Tarea A.5.** Defina la función ``shi_tomasi_corner_detection()``, que servirá para la posterior aplicación sobre las imágenes de trabajo.\n",
    "6. **Tarea A.6.** Aplique la función ``shi_tomasi_corner_detection()`` sobre las imágenes de trabajo. Asegúrese de que las imágenes quedan guardadas como se especifica en los comentarios."
   ]
  },
  {
   "cell_type": "markdown",
   "metadata": {},
   "source": [
    "### **Tarea A.1**. Cree una nueva capeta llamada ``partA``, dentro de la carpeta  ``data``, con el objetivo de presentar en ella los resultados de esta parte de la práctica."
   ]
  },
  {
   "cell_type": "code",
   "execution_count": 2,
   "metadata": {
    "scrolled": true
   },
   "outputs": [],
   "source": [
    "# TODO Create a folder to save all partA results (inside data)\n",
    "folder_name = \"partA\"\n",
    "folder_path = os.path.join(os.path.dirname(os.getcwd()), folder_name)\n",
    "os.makedirs(folder_path, exist_ok=True)"
   ]
  },
  {
   "cell_type": "markdown",
   "metadata": {},
   "source": [
    "### **Tarea A.2**. Defina y ejecute los dos métodos propuestos para cargar imágenes ``imageio_load_images()`` y ``opencv_load_images()``. Observe lo que ocurre al guardar ambas imágenes usando la misma función ``cv2.imwrite()``."
   ]
  },
  {
   "cell_type": "code",
   "execution_count": 3,
   "metadata": {},
   "outputs": [
    {
     "data": {
      "text/plain": [
       "True"
      ]
     },
     "execution_count": 3,
     "metadata": {},
     "output_type": "execute_result"
    }
   ],
   "source": [
    "# This initial part is to highlight that cv2.imshow() and cv2.imwrite() works well with previous BGR conversion\n",
    "def imageio_load_images(filenames: List) -> List:\n",
    "    '''\n",
    "    Load images using imageio.imread function (RGB)\n",
    "    '''\n",
    "    return [imageio.v2.imread(filename) for filename in filenames]\n",
    "\n",
    "def opencv_load_images(filenames: List) -> List:\n",
    "    '''\n",
    "    Load images cv2.imread function (BGR)\n",
    "    '''\n",
    "    return [cv2.imread(filename) for filename in filenames]\n",
    "\n",
    "# TODO Create two sorted lists with the paths of all images in the data/source folder using glob\n",
    "source_paths = sorted(glob.glob(\"../data/source/*\"))\n",
    "imageio_images = imageio_load_images(source_paths)\n",
    "opencv_images = opencv_load_images(source_paths)\n",
    "\n",
    "# TODO Last element of both image lists is a blue tennis court, so try saving them in partA folder\n",
    "image_1_path = os.path.join(folder_path, \"imageio.png\")\n",
    "cv2.imwrite(image_1_path, imageio_images[-1])\n",
    "image_2_path = os.path.join(folder_path, \"opencv.png\")\n",
    "cv2.imwrite(image_2_path, opencv_images[-1])"
   ]
  },
  {
   "cell_type": "markdown",
   "metadata": {},
   "source": [
    "### **Tarea A.3.** Defina la función ``harris_corner_detector()``, que servirá para la posterior aplicación sobre las imágenes de trabajo. "
   ]
  },
  {
   "cell_type": "code",
   "execution_count": 4,
   "metadata": {},
   "outputs": [],
   "source": [
    "def harris_corner_detector(image: np.array, blockSize: int, ksize: int, k: float):\n",
    "    '''\n",
    "    Detects corners in an image using the Harris Corner Detection method.\n",
    "    \n",
    "    Parameters:\n",
    "    - image: Input image in RGB or grayscale format\n",
    "    - blockSize: Size of the neighborhood considered for corner detection\n",
    "    - ksize: Aperture parameter for the Sobel operator\n",
    "    - k: Harris detector free parameter in the equation\n",
    "\n",
    "    Returns:\n",
    "    - Image with detected corners highlighted in red\n",
    "    '''\n",
    "    # Convert to grayscale\n",
    "    gray = cv2.cvtColor(image, cv2.COLOR_BGR2GRAY)\n",
    "    \n",
    "    # Convert to float32 type\n",
    "    gray = np.float32(gray)\n",
    "    \n",
    "    # Apply Harris corner detection\n",
    "    harris = cv2.cornerHarris(gray, blockSize=blockSize, ksize=ksize, k=k)\n",
    "    \n",
    "    # Dilate result to mark the corners\n",
    "    harris = cv2.dilate(harris, None)\n",
    "    \n",
    "    # Thresholding to highlight corners in red\n",
    "    threshold = 0.01 * harris.max()\n",
    "    image[harris > threshold] = [0, 0, 255]  # Set corners to red\n",
    "    \n",
    "    return image\n"
   ]
  },
  {
   "cell_type": "markdown",
   "metadata": {},
   "source": [
    "### **Tarea A.4.** Aplique la función ``harris_corner_detector()`` sobre las imágenes de trabajo. Asegúrese de que las imágenes quedan guardadas como se especifica en los comentarios."
   ]
  },
  {
   "cell_type": "code",
   "execution_count": 6,
   "metadata": {},
   "outputs": [],
   "source": [
    "# This section is designed to to change corner detection parameters for each image\n",
    "# We want to save processed image in path: Lab3/data/partA/Harris_{save_name}.jpg\n",
    "\n",
    "blockSize = 2  # Size of neighborhood for corner detection\n",
    "ksize = 3      # Aperture parameter for the Sobel operator\n",
    "k = 0.05       # Harris detector free parameter\n",
    "\n",
    "def apply_and_save_harris(save_name: str, index: int):\n",
    "    # Copy first original image (replace 'path_to_first_image' with actual path)\n",
    "    image = cv2.imread(source_paths[index])\n",
    "\n",
    "    # Apply Harris Corner Detection\n",
    "    harris_image = harris_corner_detector(image, blockSize=blockSize, ksize=ksize, k=k)\n",
    "\n",
    "    # Save final image in partA folder\n",
    "    cv2.imwrite(os.path.join(folder_path, f\"harris_{save_name}.png\"), harris_image)\n",
    "\n",
    "apply_and_save_harris(\"geometry\", 0) # Geometry\n",
    "apply_and_save_harris(\"football\", 1)  # Texture"
   ]
  },
  {
   "cell_type": "markdown",
   "metadata": {},
   "source": [
    "### **Tarea A.5.** Defina la función ``shi_tomasi_corner_detection()``, que servirá para la posterior aplicación sobre las imágenes de trabajo."
   ]
  },
  {
   "cell_type": "code",
   "execution_count": 7,
   "metadata": {
    "scrolled": true
   },
   "outputs": [],
   "source": [
    "# TODO Define Shi-Tomasi corner detection function\n",
    "def shi_tomasi_corner_detection(image: np.array, maxCorners: int, qualityLevel:float, minDistance: int, corner_color: tuple, radius: int):\n",
    "    '''\n",
    "    image - Input image\n",
    "    maxCorners - Maximum number of corners to return. \n",
    "                 If there are more corners than are found, the strongest of them is returned. \n",
    "                 maxCorners <= 0 implies that no limit on the maximum is set and all detected corners are returned\n",
    "    qualityLevel - Parameter characterizing the minimal accepted quality of image corners. \n",
    "                   The parameter value is multiplied by the best corner quality measure, which is the minimal eigenvalue or the Harris function response. \n",
    "                   The corners with the quality measure less than the product are rejected. \n",
    "                   For example, if the best corner has the quality measure = 1500, and the qualityLevel=0.01 , then all the corners with the quality measure less than 15 are rejected\n",
    "    minDistance - Minimum possible Euclidean distance between the returned corners\n",
    "    corner_color - Desired color to highlight corners in the original image\n",
    "    radius - Desired radius (pixels) of the circle\n",
    "    '''\n",
    "    # TODO Input image to Tomasi corner detector should be grayscale \n",
    "    gray = cv2.cvtColor(image, cv2.COLOR_BGR2GRAY)\n",
    "    \n",
    "    # Apply Shi-Tomasi corner detection\n",
    "    corners = cv2.goodFeaturesToTrack(\n",
    "        gray, \n",
    "        maxCorners=maxCorners, \n",
    "        qualityLevel=qualityLevel, \n",
    "        minDistance=minDistance\n",
    "    )\n",
    "    \n",
    "    # Ensure corner coordinates are integers\n",
    "    corners = np.int0(corners)\n",
    "    \n",
    "    # Draw circles around each detected corner\n",
    "    for corner in corners:\n",
    "        x, y = corner.ravel()  # Flatten the coordinates\n",
    "        cv2.circle(image, (x, y), radius, corner_color, -1)  # Draw filled circle\n",
    "    \n",
    "    return image"
   ]
  },
  {
   "cell_type": "markdown",
   "metadata": {},
   "source": [
    "### **Tarea A.6.** Aplique la función ``shi_tomasi_corner_detection()`` sobre las imágenes de trabajo. Asegúrese de que las imágenes quedan guardadas como se especifica en los comentarios."
   ]
  },
  {
   "cell_type": "code",
   "execution_count": 11,
   "metadata": {},
   "outputs": [
    {
     "name": "stderr",
     "output_type": "stream",
     "text": [
      "C:\\Users\\javie\\AppData\\Local\\Temp\\ipykernel_12456\\7618231.py:28: DeprecationWarning: `np.int0` is a deprecated alias for `np.intp`.  (Deprecated NumPy 1.24)\n",
      "  corners = np.int0(corners)\n"
     ]
    }
   ],
   "source": [
    "# This section is designed to to change corner detection parameters for each image\n",
    "# We want to save processed image in path: Lab3/data/partA/Shi-Tomasi_{save_name}.jpg\n",
    "\n",
    "# First image - Purple corners and radius = 4\n",
    "purple_color = (255, 0, 255)  # BGR format for purple\n",
    "\n",
    "# Parameters for Shi-Tomasi corner detection\n",
    "maxCorners = 60          # Maximum number of corners to detect (adjust as needed)\n",
    "qualityLevel = 0.05      # Minimum quality of corners (between 0 and 1)\n",
    "minDistance = 7         # Minimum distance between corners\n",
    "\n",
    "def apply_and_save_shi(save_name: str, index: int):\n",
    "    # Copy first original image (replace 'path_to_first_image' with actual path)\n",
    "    image = cv2.imread(source_paths[index])\n",
    "\n",
    "    # Apply Harris Corner Detection\n",
    "    tomasi_image = shi_tomasi_corner_detection(image, maxCorners=maxCorners, qualityLevel=qualityLevel, minDistance=minDistance, corner_color=purple_color, radius=5)\n",
    "\n",
    "    # Save final image in partA folder\n",
    "    cv2.imwrite(os.path.join(folder_path, f\"shi_{save_name}.png\"), tomasi_image)\n",
    "\n",
    "apply_and_save_shi(\"geometry\", 0) # Geometry\n",
    "apply_and_save_shi(\"football\", 1)  # Football"
   ]
  },
  {
   "cell_type": "markdown",
   "metadata": {},
   "source": [
    "### **Pregunta A.1:** Realice la detección de esquinas en las otras dos imágenes de la carpeta ``data/source`` (cuyos nombres de guardado han de ser \"sudoku\" y \"tennis\") con el método de Harris"
   ]
  },
  {
   "cell_type": "code",
   "execution_count": 12,
   "metadata": {},
   "outputs": [],
   "source": [
    "# Code by yourself\n",
    "apply_and_save_harris(\"sudoku\", 2)  # Sudoku\n",
    "apply_and_save_harris(\"tennis\", 3)  # Tennis court"
   ]
  },
  {
   "cell_type": "markdown",
   "metadata": {},
   "source": [
    "### **Pregunta A.2:** Realice la detección de esquinas en las otras dos imágenes de la carpeta ``data/source`` (cuyos nombres de guardado han de ser \"sudoku\" y \"tennis\") con el método de Shi-Tomasi"
   ]
  },
  {
   "cell_type": "code",
   "execution_count": 13,
   "metadata": {},
   "outputs": [
    {
     "name": "stderr",
     "output_type": "stream",
     "text": [
      "C:\\Users\\javie\\AppData\\Local\\Temp\\ipykernel_12456\\7618231.py:28: DeprecationWarning: `np.int0` is a deprecated alias for `np.intp`.  (Deprecated NumPy 1.24)\n",
      "  corners = np.int0(corners)\n"
     ]
    }
   ],
   "source": [
    "# Code by yourself\n",
    "apply_and_save_shi(\"sudoku\", 2)  # Sudoku\n",
    "apply_and_save_shi(\"tennis\", 3)  # Tennis court"
   ]
  },
  {
   "cell_type": "markdown",
   "metadata": {},
   "source": []
  }
 ],
 "metadata": {
  "kernelspec": {
   "display_name": "Python 3",
   "language": "python",
   "name": "python3"
  },
  "language_info": {
   "codemirror_mode": {
    "name": "ipython",
    "version": 3
   },
   "file_extension": ".py",
   "mimetype": "text/x-python",
   "name": "python",
   "nbconvert_exporter": "python",
   "pygments_lexer": "ipython3",
   "version": "3.12.0"
  }
 },
 "nbformat": 4,
 "nbformat_minor": 4
}
